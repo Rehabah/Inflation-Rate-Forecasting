{
 "cells": [
  {
   "cell_type": "code",
   "execution_count": 112,
   "id": "ec86c86e",
   "metadata": {
    "scrolled": true
   },
   "outputs": [],
   "source": [
    "# pip install scalecast"
   ]
  },
  {
   "cell_type": "code",
   "execution_count": 1,
   "id": "94fc9433",
   "metadata": {},
   "outputs": [],
   "source": [
    "import pandas as pd\n",
    "import numpy as np\n",
    "import pickle\n",
    "import seaborn as sns\n",
    "import matplotlib.pyplot as plt\n",
    "from sklearn.preprocessing import MinMaxScaler\n",
    "from sklearn.model_selection import train_test_split\n",
    "# from scalecast.Forecaster import Forecaster"
   ]
  },
  {
   "cell_type": "code",
   "execution_count": 2,
   "id": "40fa0640",
   "metadata": {},
   "outputs": [],
   "source": [
    "data=pd.read_excel(r'')"
   ]
  },
  {
   "cell_type": "code",
   "execution_count": 3,
   "id": "5383b76e",
   "metadata": {},
   "outputs": [
    {
     "data": {
      "text/plain": [
       "Index(['ear', 'Saudi Arabia'], dtype='object')"
      ]
     },
     "execution_count": 3,
     "metadata": {},
     "output_type": "execute_result"
    }
   ],
   "source": [
    "data.columns"
   ]
  },
  {
   "cell_type": "code",
   "execution_count": 4,
   "id": "312c1617",
   "metadata": {},
   "outputs": [
    {
     "data": {
      "text/plain": [
       "58"
      ]
     },
     "execution_count": 4,
     "metadata": {},
     "output_type": "execute_result"
    }
   ],
   "source": [
    "len(data)"
   ]
  },
  {
   "cell_type": "code",
   "execution_count": 5,
   "id": "69a21f52",
   "metadata": {},
   "outputs": [
    {
     "data": {
      "text/plain": [
       "<AxesSubplot:xlabel='ear'>"
      ]
     },
     "execution_count": 5,
     "metadata": {},
     "output_type": "execute_result"
    },
    {
     "data": {
      "image/png": "[encoded data removed]",
      "text/plain": [
       "<Figure size 432x288 with 1 Axes>"
      ]
     },
     "metadata": {
      "needs_background": "light"
     },
     "output_type": "display_data"
    }
   ],
   "source": [
    "data.plot.line(x='ear', y='Saudi Arabia')"
   ]
  },
  {
   "cell_type": "code",
   "execution_count": 114,
   "id": "a172ef4e",
   "metadata": {},
   "outputs": [],
   "source": [
    "#splitting the data \n",
    "\n",
    "X=data['ear'].values  \n",
    "# print(X)\n",
    "# print(X.reshape(-1, 1))\n",
    "y=data['Saudi Arabia']\n",
    "\n",
    "#normalizing the dataset\n",
    "# X = X.values\n",
    "# X = X.astype('float32')\n",
    "X=data['Saudi Arabia'].values  \n",
    "scaler = MinMaxScaler()\n",
    "X = scaler.fit_transform(X.reshape(-1, 1))\n",
    "# print(X)\n",
    "\n",
    "\n",
    "############X_train, X_test, y_train, y_test = train_test_split(X, y, test_size=0.33)\n",
    "\n",
    "#building the model \n",
    "\n",
    "\n"
   ]
  },
  {
   "cell_type": "code",
   "execution_count": 24,
   "id": "aadd191c",
   "metadata": {},
   "outputs": [
    {
     "name": "stdout",
     "output_type": "stream",
     "text": [
      "38\n",
      "20\n"
     ]
    }
   ],
   "source": [
    "print(len(X_train))\n",
    "print(len(X_test))"
   ]
  },
  {
   "cell_type": "code",
   "execution_count": 25,
   "id": "35bd895d",
   "metadata": {},
   "outputs": [],
   "source": [
    "# data\n",
    "# data.loc[0:train_size,:]"
   ]
  },
  {
   "cell_type": "code",
   "execution_count": 115,
   "id": "1ec10007",
   "metadata": {},
   "outputs": [
    {
     "name": "stdout",
     "output_type": "stream",
     "text": [
      "38 20\n"
     ]
    }
   ],
   "source": [
    "# split into train and test sets\n",
    "train_size = int(len(X) * 0.67)\n",
    "test_size = len(X) - train_size\n",
    "train, test = X[0:train_size,:], X[train_size:len(X),:]\n",
    "print(len(train), len(test))"
   ]
  },
  {
   "cell_type": "code",
   "execution_count": 133,
   "id": "75cc2d63",
   "metadata": {},
   "outputs": [],
   "source": [
    "# convert an array of values into a dataset matrix\n",
    "def create_dataset(dataset, look_back=1):\n",
    "     dataX, dataY = [], []\n",
    "     for i in range(len(dataset)-look_back-1):\n",
    "#          print(i,(i+look_back))\n",
    "         a = dataset[i:(i+look_back), 0]\n",
    "#          print(a)\n",
    "         dataX.append(a)\n",
    "         dataY.append(dataset[i + look_back, 0])\n",
    "     return np.array(dataX), np.array(dataY)"
   ]
  },
  {
   "cell_type": "code",
   "execution_count": 134,
   "id": "2cd90924",
   "metadata": {},
   "outputs": [],
   "source": [
    "# # reshape into X=t and Y=t+1\n",
    "look_back = 1\n",
    "\n",
    "X_train, y_train = create_dataset(train, look_back)\n",
    "X_test, y_test = create_dataset(test, look_back)\n",
    "# # reshape input to be [samples, time steps, features]\n",
    "X_train = np.reshape(X_train, (X_train.shape[0], 1, X_train.shape[1]))\n",
    "X_test = np.reshape(X_test, (X_test.shape[0], 1, X_test.shape[1]))"
   ]
  },
  {
   "cell_type": "code",
   "execution_count": 120,
   "id": "ee151b4c",
   "metadata": {},
   "outputs": [],
   "source": [
    "X_train, y_train = np.array(X_train), np.array(y_train)\n",
    "# Reshaping\n",
    "X_train = np.reshape(X_train, (X_train.shape[0], X_train.shape[1], 1))\n",
    "X_test = np.reshape(X_test, (X_test.shape[0], X_test.shape[1], 1))"
   ]
  },
  {
   "cell_type": "code",
   "execution_count": 54,
   "id": "ffa03b70",
   "metadata": {},
   "outputs": [],
   "source": [
    "# from keras.models import Sequential\n",
    "# from keras.layers import Dense\n",
    "# from keras.layers import LSTM\n",
    "# from sklearn.metrics import mean_squared_error\n",
    "\n",
    "# model = Sequential()\n",
    "# model.add(LSTM(4, input_shape=(1, look_back)))\n",
    "# model.add(Dense(1))\n",
    "# model.compile(loss='mean_squared_error', optimizer='adam')\n",
    "# model.fit(X_train, y_train, epochs=100, batch_size=1, verbose=2)"
   ]
  },
  {
   "cell_type": "code",
   "execution_count": 55,
   "id": "627bc8c1",
   "metadata": {},
   "outputs": [],
   "source": [
    "# X_train"
   ]
  },
  {
   "cell_type": "code",
   "execution_count": 121,
   "id": "c5e6df2a",
   "metadata": {},
   "outputs": [
    {
     "name": "stdout",
     "output_type": "stream",
     "text": [
      "Epoch 1/150\n",
      "2/2 [==============================] - 10s 15ms/step - loss: 0.0879 - mse: 0.0879 - mae: 0.1913\n",
      "Epoch 2/150\n",
      "2/2 [==============================] - 0s 17ms/step - loss: 0.0846 - mse: 0.0846 - mae: 0.1831\n",
      "Epoch 3/150\n",
      "2/2 [==============================] - 0s 9ms/step - loss: 0.0811 - mse: 0.0811 - mae: 0.1748\n",
      "Epoch 4/150\n",
      "2/2 [==============================] - 0s 8ms/step - loss: 0.0777 - mse: 0.0777 - mae: 0.1656\n",
      "Epoch 5/150\n",
      "2/2 [==============================] - 0s 8ms/step - loss: 0.0747 - mse: 0.0747 - mae: 0.1564\n",
      "Epoch 6/150\n",
      "2/2 [==============================] - 0s 8ms/step - loss: 0.0707 - mse: 0.0707 - mae: 0.1470\n",
      "Epoch 7/150\n",
      "2/2 [==============================] - 0s 12ms/step - loss: 0.0676 - mse: 0.0676 - mae: 0.1399\n",
      "Epoch 8/150\n",
      "2/2 [==============================] - 0s 24ms/step - loss: 0.0637 - mse: 0.0637 - mae: 0.1301\n",
      "Epoch 9/150\n",
      "2/2 [==============================] - 0s 9ms/step - loss: 0.0611 - mse: 0.0611 - mae: 0.1249\n",
      "Epoch 10/150\n",
      "2/2 [==============================] - 0s 17ms/step - loss: 0.0582 - mse: 0.0582 - mae: 0.1204\n",
      "Epoch 11/150\n",
      "2/2 [==============================] - 0s 16ms/step - loss: 0.0545 - mse: 0.0545 - mae: 0.1195\n",
      "Epoch 12/150\n",
      "2/2 [==============================] - 0s 8ms/step - loss: 0.0546 - mse: 0.0546 - mae: 0.1261\n",
      "Epoch 13/150\n",
      "2/2 [==============================] - 0s 8ms/step - loss: 0.0517 - mse: 0.0517 - mae: 0.1338\n",
      "Epoch 14/150\n",
      "2/2 [==============================] - 0s 8ms/step - loss: 0.0501 - mse: 0.0501 - mae: 0.1381\n",
      "Epoch 15/150\n",
      "2/2 [==============================] - 0s 8ms/step - loss: 0.0524 - mse: 0.0524 - mae: 0.1427\n",
      "Epoch 16/150\n",
      "2/2 [==============================] - 0s 18ms/step - loss: 0.0503 - mse: 0.0503 - mae: 0.1438\n",
      "Epoch 17/150\n",
      "2/2 [==============================] - 0s 8ms/step - loss: 0.0513 - mse: 0.0513 - mae: 0.1450\n",
      "Epoch 18/150\n",
      "2/2 [==============================] - 0s 13ms/step - loss: 0.0495 - mse: 0.0495 - mae: 0.1445\n",
      "Epoch 19/150\n",
      "2/2 [==============================] - 0s 16ms/step - loss: 0.0507 - mse: 0.0507 - mae: 0.1475\n",
      "Epoch 20/150\n",
      "2/2 [==============================] - 0s 16ms/step - loss: 0.0508 - mse: 0.0508 - mae: 0.1500\n",
      "Epoch 21/150\n",
      "2/2 [==============================] - 0s 8ms/step - loss: 0.0493 - mse: 0.0493 - mae: 0.1500\n",
      "Epoch 22/150\n",
      "2/2 [==============================] - 0s 12ms/step - loss: 0.0515 - mse: 0.0515 - mae: 0.1515\n",
      "Epoch 23/150\n",
      "2/2 [==============================] - 0s 14ms/step - loss: 0.0505 - mse: 0.0505 - mae: 0.1492\n",
      "Epoch 24/150\n",
      "2/2 [==============================] - 0s 16ms/step - loss: 0.0492 - mse: 0.0492 - mae: 0.1420\n",
      "Epoch 25/150\n",
      "2/2 [==============================] - 0s 17ms/step - loss: 0.0500 - mse: 0.0500 - mae: 0.1442\n",
      "Epoch 26/150\n",
      "2/2 [==============================] - 0s 8ms/step - loss: 0.0495 - mse: 0.0495 - mae: 0.1378\n",
      "Epoch 27/150\n",
      "2/2 [==============================] - 0s 16ms/step - loss: 0.0490 - mse: 0.0490 - mae: 0.1360\n",
      "Epoch 28/150\n",
      "2/2 [==============================] - 0s 6ms/step - loss: 0.0501 - mse: 0.0501 - mae: 0.1318\n",
      "Epoch 29/150\n",
      "2/2 [==============================] - 0s 16ms/step - loss: 0.0478 - mse: 0.0478 - mae: 0.1329\n",
      "Epoch 30/150\n",
      "2/2 [==============================] - 0s 8ms/step - loss: 0.0496 - mse: 0.0496 - mae: 0.1316\n",
      "Epoch 31/150\n",
      "2/2 [==============================] - 0s 16ms/step - loss: 0.0472 - mse: 0.0472 - mae: 0.1309\n",
      "Epoch 32/150\n",
      "2/2 [==============================] - 0s 8ms/step - loss: 0.0472 - mse: 0.0472 - mae: 0.1309\n",
      "Epoch 33/150\n",
      "2/2 [==============================] - 0s 16ms/step - loss: 0.0462 - mse: 0.0462 - mae: 0.1286\n",
      "Epoch 34/150\n",
      "2/2 [==============================] - 0s 8ms/step - loss: 0.0450 - mse: 0.0450 - mae: 0.1298\n",
      "Epoch 35/150\n",
      "2/2 [==============================] - 0s 20ms/step - loss: 0.0440 - mse: 0.0440 - mae: 0.1314\n",
      "Epoch 36/150\n",
      "2/2 [==============================] - 0s 8ms/step - loss: 0.0411 - mse: 0.0411 - mae: 0.1365\n",
      "Epoch 37/150\n",
      "2/2 [==============================] - 0s 8ms/step - loss: 0.0414 - mse: 0.0414 - mae: 0.1432\n",
      "Epoch 38/150\n",
      "2/2 [==============================] - 0s 11ms/step - loss: 0.0430 - mse: 0.0430 - mae: 0.1518\n",
      "Epoch 39/150\n",
      "2/2 [==============================] - 0s 16ms/step - loss: 0.0397 - mse: 0.0397 - mae: 0.1579\n",
      "Epoch 40/150\n",
      "2/2 [==============================] - 0s 8ms/step - loss: 0.0381 - mse: 0.0381 - mae: 0.1622\n",
      "Epoch 41/150\n",
      "2/2 [==============================] - 0s 15ms/step - loss: 0.0351 - mse: 0.0351 - mae: 0.1515\n",
      "Epoch 42/150\n",
      "2/2 [==============================] - 0s 16ms/step - loss: 0.0338 - mse: 0.0338 - mae: 0.1418\n",
      "Epoch 43/150\n",
      "2/2 [==============================] - 0s 16ms/step - loss: 0.0321 - mse: 0.0321 - mae: 0.1267\n",
      "Epoch 44/150\n",
      "2/2 [==============================] - 0s 8ms/step - loss: 0.0290 - mse: 0.0290 - mae: 0.1158\n",
      "Epoch 45/150\n",
      "2/2 [==============================] - 0s 16ms/step - loss: 0.0258 - mse: 0.0258 - mae: 0.1057\n",
      "Epoch 46/150\n",
      "2/2 [==============================] - 0s 15ms/step - loss: 0.0202 - mse: 0.0202 - mae: 0.0957\n",
      "Epoch 47/150\n",
      "2/2 [==============================] - 0s 8ms/step - loss: 0.0255 - mse: 0.0255 - mae: 0.1098\n",
      "Epoch 48/150\n",
      "2/2 [==============================] - 0s 21ms/step - loss: 0.0229 - mse: 0.0229 - mae: 0.1052\n",
      "Epoch 49/150\n",
      "2/2 [==============================] - 0s 13ms/step - loss: 0.0213 - mse: 0.0213 - mae: 0.0977\n",
      "Epoch 50/150\n",
      "2/2 [==============================] - 0s 16ms/step - loss: 0.0161 - mse: 0.0161 - mae: 0.0881\n",
      "Epoch 51/150\n",
      "2/2 [==============================] - 0s 16ms/step - loss: 0.0221 - mse: 0.0221 - mae: 0.0934\n",
      "Epoch 52/150\n",
      "2/2 [==============================] - 0s 16ms/step - loss: 0.0201 - mse: 0.0201 - mae: 0.0878\n",
      "Epoch 53/150\n",
      "2/2 [==============================] - 0s 16ms/step - loss: 0.0217 - mse: 0.0217 - mae: 0.0869\n",
      "Epoch 54/150\n",
      "2/2 [==============================] - 0s 21ms/step - loss: 0.0217 - mse: 0.0217 - mae: 0.0892\n",
      "Epoch 55/150\n",
      "2/2 [==============================] - 0s 16ms/step - loss: 0.0205 - mse: 0.0205 - mae: 0.0906\n",
      "Epoch 56/150\n",
      "2/2 [==============================] - 0s 16ms/step - loss: 0.0200 - mse: 0.0200 - mae: 0.0875\n",
      "Epoch 57/150\n",
      "2/2 [==============================] - 0s 17ms/step - loss: 0.0223 - mse: 0.0223 - mae: 0.0886\n",
      "Epoch 58/150\n",
      "2/2 [==============================] - 0s 16ms/step - loss: 0.0197 - mse: 0.0197 - mae: 0.0916\n",
      "Epoch 59/150\n",
      "2/2 [==============================] - 0s 16ms/step - loss: 0.0280 - mse: 0.0280 - mae: 0.0953\n",
      "Epoch 60/150\n",
      "2/2 [==============================] - 0s 16ms/step - loss: 0.0210 - mse: 0.0210 - mae: 0.0922\n",
      "Epoch 61/150\n",
      "2/2 [==============================] - 0s 13ms/step - loss: 0.0179 - mse: 0.0179 - mae: 0.0838\n",
      "Epoch 62/150\n",
      "2/2 [==============================] - 0s 16ms/step - loss: 0.0224 - mse: 0.0224 - mae: 0.0884\n",
      "Epoch 63/150\n",
      "2/2 [==============================] - 0s 17ms/step - loss: 0.0245 - mse: 0.0245 - mae: 0.0897\n",
      "Epoch 64/150\n",
      "2/2 [==============================] - 0s 18ms/step - loss: 0.0224 - mse: 0.0224 - mae: 0.0906\n",
      "Epoch 65/150\n",
      "2/2 [==============================] - 0s 14ms/step - loss: 0.0218 - mse: 0.0218 - mae: 0.0880\n",
      "Epoch 66/150\n",
      "2/2 [==============================] - 0s 23ms/step - loss: 0.0147 - mse: 0.0147 - mae: 0.0754\n",
      "Epoch 67/150\n",
      "2/2 [==============================] - 0s 8ms/step - loss: 0.0229 - mse: 0.0229 - mae: 0.0914\n",
      "Epoch 68/150\n",
      "2/2 [==============================] - 0s 18ms/step - loss: 0.0228 - mse: 0.0228 - mae: 0.0896\n",
      "Epoch 69/150\n",
      "2/2 [==============================] - 0s 16ms/step - loss: 0.0248 - mse: 0.0248 - mae: 0.0926\n",
      "Epoch 70/150\n",
      "2/2 [==============================] - 0s 16ms/step - loss: 0.0198 - mse: 0.0198 - mae: 0.0894\n",
      "Epoch 71/150\n",
      "2/2 [==============================] - 0s 8ms/step - loss: 0.0219 - mse: 0.0219 - mae: 0.0893\n",
      "Epoch 72/150\n",
      "2/2 [==============================] - 0s 14ms/step - loss: 0.0211 - mse: 0.0211 - mae: 0.0970\n",
      "Epoch 73/150\n",
      "2/2 [==============================] - 0s 11ms/step - loss: 0.0236 - mse: 0.0236 - mae: 0.1046\n",
      "Epoch 74/150\n",
      "2/2 [==============================] - 0s 9ms/step - loss: 0.0299 - mse: 0.0299 - mae: 0.1038\n",
      "Epoch 75/150\n",
      "2/2 [==============================] - 0s 16ms/step - loss: 0.0242 - mse: 0.0242 - mae: 0.0962\n",
      "Epoch 76/150\n",
      "2/2 [==============================] - 0s 16ms/step - loss: 0.0233 - mse: 0.0233 - mae: 0.0930\n",
      "Epoch 77/150\n"
     ]
    },
    {
     "name": "stdout",
     "output_type": "stream",
     "text": [
      "2/2 [==============================] - 0s 16ms/step - loss: 0.0206 - mse: 0.0206 - mae: 0.0872\n",
      "Epoch 78/150\n",
      "2/2 [==============================] - 0s 8ms/step - loss: 0.0208 - mse: 0.0208 - mae: 0.0859\n",
      "Epoch 79/150\n",
      "2/2 [==============================] - 0s 8ms/step - loss: 0.0235 - mse: 0.0235 - mae: 0.0885\n",
      "Epoch 80/150\n",
      "2/2 [==============================] - 0s 17ms/step - loss: 0.0189 - mse: 0.0189 - mae: 0.0849\n",
      "Epoch 81/150\n",
      "2/2 [==============================] - 0s 17ms/step - loss: 0.0206 - mse: 0.0206 - mae: 0.0906\n",
      "Epoch 82/150\n",
      "2/2 [==============================] - 0s 22ms/step - loss: 0.0234 - mse: 0.0234 - mae: 0.0918\n",
      "Epoch 83/150\n",
      "2/2 [==============================] - 0s 17ms/step - loss: 0.0191 - mse: 0.0191 - mae: 0.0867\n",
      "Epoch 84/150\n",
      "2/2 [==============================] - 0s 16ms/step - loss: 0.0263 - mse: 0.0263 - mae: 0.0951\n",
      "Epoch 85/150\n",
      "2/2 [==============================] - 0s 17ms/step - loss: 0.0232 - mse: 0.0232 - mae: 0.0960\n",
      "Epoch 86/150\n",
      "2/2 [==============================] - 0s 15ms/step - loss: 0.0297 - mse: 0.0297 - mae: 0.1083\n",
      "Epoch 87/150\n",
      "2/2 [==============================] - 0s 14ms/step - loss: 0.0263 - mse: 0.0263 - mae: 0.1008\n",
      "Epoch 88/150\n",
      "2/2 [==============================] - 0s 12ms/step - loss: 0.0244 - mse: 0.0244 - mae: 0.1026\n",
      "Epoch 89/150\n",
      "2/2 [==============================] - 0s 18ms/step - loss: 0.0154 - mse: 0.0154 - mae: 0.0842\n",
      "Epoch 90/150\n",
      "2/2 [==============================] - 0s 11ms/step - loss: 0.0137 - mse: 0.0137 - mae: 0.0779\n",
      "Epoch 91/150\n",
      "2/2 [==============================] - 0s 13ms/step - loss: 0.0211 - mse: 0.0211 - mae: 0.0891\n",
      "Epoch 92/150\n",
      "2/2 [==============================] - 0s 15ms/step - loss: 0.0233 - mse: 0.0233 - mae: 0.0907\n",
      "Epoch 93/150\n",
      "2/2 [==============================] - 0s 12ms/step - loss: 0.0261 - mse: 0.0261 - mae: 0.0966\n",
      "Epoch 94/150\n",
      "2/2 [==============================] - 0s 13ms/step - loss: 0.0212 - mse: 0.0212 - mae: 0.0879\n",
      "Epoch 95/150\n",
      "2/2 [==============================] - 0s 12ms/step - loss: 0.0222 - mse: 0.0222 - mae: 0.0880\n",
      "Epoch 96/150\n",
      "2/2 [==============================] - 0s 14ms/step - loss: 0.0200 - mse: 0.0200 - mae: 0.0874\n",
      "Epoch 97/150\n",
      "2/2 [==============================] - 0s 13ms/step - loss: 0.0203 - mse: 0.0203 - mae: 0.0893\n",
      "Epoch 98/150\n",
      "2/2 [==============================] - 0s 13ms/step - loss: 0.0186 - mse: 0.0186 - mae: 0.0833\n",
      "Epoch 99/150\n",
      "2/2 [==============================] - 0s 13ms/step - loss: 0.0203 - mse: 0.0203 - mae: 0.0909\n",
      "Epoch 100/150\n",
      "2/2 [==============================] - 0s 14ms/step - loss: 0.0178 - mse: 0.0178 - mae: 0.0878\n",
      "Epoch 101/150\n",
      "2/2 [==============================] - 0s 14ms/step - loss: 0.0239 - mse: 0.0239 - mae: 0.0974\n",
      "Epoch 102/150\n",
      "2/2 [==============================] - 0s 12ms/step - loss: 0.0171 - mse: 0.0171 - mae: 0.0857\n",
      "Epoch 103/150\n",
      "2/2 [==============================] - 0s 13ms/step - loss: 0.0188 - mse: 0.0188 - mae: 0.0898\n",
      "Epoch 104/150\n",
      "2/2 [==============================] - 0s 13ms/step - loss: 0.0208 - mse: 0.0208 - mae: 0.0944\n",
      "Epoch 105/150\n",
      "2/2 [==============================] - 0s 12ms/step - loss: 0.0169 - mse: 0.0169 - mae: 0.0852\n",
      "Epoch 106/150\n",
      "2/2 [==============================] - 0s 18ms/step - loss: 0.0198 - mse: 0.0198 - mae: 0.0891\n",
      "Epoch 107/150\n",
      "2/2 [==============================] - 0s 14ms/step - loss: 0.0204 - mse: 0.0204 - mae: 0.0849\n",
      "Epoch 108/150\n",
      "2/2 [==============================] - 0s 13ms/step - loss: 0.0204 - mse: 0.0204 - mae: 0.0916\n",
      "Epoch 109/150\n",
      "2/2 [==============================] - 0s 13ms/step - loss: 0.0173 - mse: 0.0173 - mae: 0.0849\n",
      "Epoch 110/150\n",
      "2/2 [==============================] - 0s 13ms/step - loss: 0.0176 - mse: 0.0176 - mae: 0.0808\n",
      "Epoch 111/150\n",
      "2/2 [==============================] - 0s 13ms/step - loss: 0.0219 - mse: 0.0219 - mae: 0.0873\n",
      "Epoch 112/150\n",
      "2/2 [==============================] - 0s 13ms/step - loss: 0.0239 - mse: 0.0239 - mae: 0.0956\n",
      "Epoch 113/150\n",
      "2/2 [==============================] - 0s 13ms/step - loss: 0.0223 - mse: 0.0223 - mae: 0.0932\n",
      "Epoch 114/150\n",
      "2/2 [==============================] - 0s 15ms/step - loss: 0.0245 - mse: 0.0245 - mae: 0.0885\n",
      "Epoch 115/150\n",
      "2/2 [==============================] - 0s 15ms/step - loss: 0.0164 - mse: 0.0164 - mae: 0.0866\n",
      "Epoch 116/150\n",
      "2/2 [==============================] - 0s 15ms/step - loss: 0.0239 - mse: 0.0239 - mae: 0.0936\n",
      "Epoch 117/150\n",
      "2/2 [==============================] - 0s 12ms/step - loss: 0.0181 - mse: 0.0181 - mae: 0.0868\n",
      "Epoch 118/150\n",
      "2/2 [==============================] - 0s 12ms/step - loss: 0.0209 - mse: 0.0209 - mae: 0.0907\n",
      "Epoch 119/150\n",
      "2/2 [==============================] - 0s 8ms/step - loss: 0.0246 - mse: 0.0246 - mae: 0.0956\n",
      "Epoch 120/150\n",
      "2/2 [==============================] - 0s 9ms/step - loss: 0.0211 - mse: 0.0211 - mae: 0.0844\n",
      "Epoch 121/150\n",
      "2/2 [==============================] - 0s 17ms/step - loss: 0.0164 - mse: 0.0164 - mae: 0.0791\n",
      "Epoch 122/150\n",
      "2/2 [==============================] - 0s 16ms/step - loss: 0.0200 - mse: 0.0200 - mae: 0.0841\n",
      "Epoch 123/150\n",
      "2/2 [==============================] - 0s 16ms/step - loss: 0.0165 - mse: 0.0165 - mae: 0.0832\n",
      "Epoch 124/150\n",
      "2/2 [==============================] - 0s 21ms/step - loss: 0.0190 - mse: 0.0190 - mae: 0.0857\n",
      "Epoch 125/150\n",
      "2/2 [==============================] - 0s 17ms/step - loss: 0.0214 - mse: 0.0214 - mae: 0.0946\n",
      "Epoch 126/150\n",
      "2/2 [==============================] - 0s 17ms/step - loss: 0.0180 - mse: 0.0180 - mae: 0.0889\n",
      "Epoch 127/150\n",
      "2/2 [==============================] - 0s 14ms/step - loss: 0.0214 - mse: 0.0214 - mae: 0.0992\n",
      "Epoch 128/150\n",
      "2/2 [==============================] - 0s 24ms/step - loss: 0.0224 - mse: 0.0224 - mae: 0.0994\n",
      "Epoch 129/150\n",
      "2/2 [==============================] - 0s 14ms/step - loss: 0.0211 - mse: 0.0211 - mae: 0.1022\n",
      "Epoch 130/150\n",
      "2/2 [==============================] - 0s 16ms/step - loss: 0.0302 - mse: 0.0302 - mae: 0.1110\n",
      "Epoch 131/150\n",
      "2/2 [==============================] - 0s 16ms/step - loss: 0.0233 - mse: 0.0233 - mae: 0.1043\n",
      "Epoch 132/150\n",
      "2/2 [==============================] - 0s 16ms/step - loss: 0.0190 - mse: 0.0190 - mae: 0.0923\n",
      "Epoch 133/150\n",
      "2/2 [==============================] - 0s 16ms/step - loss: 0.0159 - mse: 0.0159 - mae: 0.0840\n",
      "Epoch 134/150\n",
      "2/2 [==============================] - 0s 16ms/step - loss: 0.0282 - mse: 0.0282 - mae: 0.0985\n",
      "Epoch 135/150\n",
      "2/2 [==============================] - 0s 16ms/step - loss: 0.0191 - mse: 0.0191 - mae: 0.0863\n",
      "Epoch 136/150\n",
      "2/2 [==============================] - 0s 16ms/step - loss: 0.0180 - mse: 0.0180 - mae: 0.0844\n",
      "Epoch 137/150\n",
      "2/2 [==============================] - 0s 20ms/step - loss: 0.0196 - mse: 0.0196 - mae: 0.0911\n",
      "Epoch 138/150\n",
      "2/2 [==============================] - 0s 17ms/step - loss: 0.0234 - mse: 0.0234 - mae: 0.0963\n",
      "Epoch 139/150\n",
      "2/2 [==============================] - 0s 16ms/step - loss: 0.0154 - mse: 0.0154 - mae: 0.0833\n",
      "Epoch 140/150\n",
      "2/2 [==============================] - 0s 8ms/step - loss: 0.0241 - mse: 0.0241 - mae: 0.1053\n",
      "Epoch 141/150\n",
      "2/2 [==============================] - 0s 16ms/step - loss: 0.0262 - mse: 0.0262 - mae: 0.1088\n",
      "Epoch 142/150\n",
      "2/2 [==============================] - 0s 17ms/step - loss: 0.0207 - mse: 0.0207 - mae: 0.0958\n",
      "Epoch 143/150\n",
      "2/2 [==============================] - 0s 16ms/step - loss: 0.0194 - mse: 0.0194 - mae: 0.0917\n",
      "Epoch 144/150\n",
      "2/2 [==============================] - 0s 16ms/step - loss: 0.0211 - mse: 0.0211 - mae: 0.0876\n",
      "Epoch 145/150\n",
      "2/2 [==============================] - 0s 17ms/step - loss: 0.0228 - mse: 0.0228 - mae: 0.0927\n",
      "Epoch 146/150\n",
      "2/2 [==============================] - 0s 19ms/step - loss: 0.0232 - mse: 0.0232 - mae: 0.0918\n",
      "Epoch 147/150\n",
      "2/2 [==============================] - 0s 24ms/step - loss: 0.0232 - mse: 0.0232 - mae: 0.0943\n",
      "Epoch 148/150\n",
      "2/2 [==============================] - 0s 17ms/step - loss: 0.0221 - mse: 0.0221 - mae: 0.0907\n",
      "Epoch 149/150\n",
      "2/2 [==============================] - 0s 17ms/step - loss: 0.0220 - mse: 0.0220 - mae: 0.0884\n",
      "Epoch 150/150\n",
      "2/2 [==============================] - 0s 16ms/step - loss: 0.0239 - mse: 0.0239 - mae: 0.0925\n"
     ]
    },
    {
     "data": {
      "text/plain": [
       "<keras.callbacks.History at 0x1b26a9c0d60>"
      ]
     },
     "execution_count": 121,
     "metadata": {},
     "output_type": "execute_result"
    }
   ],
   "source": [
    "# Importing the Keras libraries and packages\n",
    "from keras.models import Sequential\n",
    "from keras.layers import Dense\n",
    "from keras.layers import LSTM\n",
    "from keras.layers import Dropout\n",
    "\n",
    "# Initialising the RNN\n",
    "regressor = Sequential()\n",
    "\n",
    "# Adding first LSTM layer and some dropout Dropout regularisation\n",
    "regressor.add(LSTM(units=100, return_sequences=True, input_shape = (X_train.shape[1], 1)))\n",
    "regressor.add(Dropout(0.2))\n",
    "\n",
    "# Adding second LSTM layer and some dropout Dropout regularisation\n",
    "regressor.add(LSTM(units=100, return_sequences=True))\n",
    "regressor.add(Dropout(0.2))\n",
    "\n",
    "# Adding third LSTM layer and some dropout Dropout regularisation\n",
    "regressor.add(LSTM(units=100, return_sequences=True))\n",
    "regressor.add(Dropout(0.2))\n",
    "\n",
    "# Adding fourth LSTM layer and some dropout Dropout regularisation\n",
    "regressor.add(LSTM(units=100, return_sequences=True))\n",
    "regressor.add(Dropout(0.2))\n",
    "\n",
    "# Adding fifth LSTM layer and some dropout Dropout regularisation\n",
    "regressor.add(LSTM(units=100))\n",
    "regressor.add(Dropout(0.2))\n",
    "\n",
    "# Adding the Output Layer\n",
    "regressor.add(Dense(units=1))\n",
    "\n",
    "# Compiling the RNN\n",
    "# Because we're doing regression hence mean_squared_error\n",
    "regressor.compile(optimizer = 'adam', loss='mse', metrics=['mse', 'mae'])\n",
    "\n",
    "# Fitting the RNN to the Training set\n",
    "regressor.fit(X_train, y_train, epochs = 150, batch_size = 32)"
   ]
  },
  {
   "cell_type": "code",
   "execution_count": 48,
   "id": "85052cae",
   "metadata": {},
   "outputs": [],
   "source": [
    "# # # Build the LSTM Stack model\n",
    "# model=Sequential()\n",
    "# # Adding first LSTM layer\n",
    "# model.add(LSTM(150,return_sequences=True,input_shape=(100,1)))\n",
    "# model.add(Dropout(0.2)) # Dropout regularisation\n",
    "# # second LSTM layer \n",
    "# model.add(LSTM(150,return_sequences=True))\n",
    "# # Adding third LSTM layer \n",
    "# model.add(LSTM(150, return_sequences=True))\n",
    "# model.add(Dropout(0.2))\n",
    "# # Adding fourth LSTM layer\n",
    "# model.add(LSTM(150))\n",
    "# model.add(Dropout(0.2))\n",
    "# # Adding the Output Layer\n",
    "# model.add(Dense(1))\n",
    "# model.compile(loss='mean_squared_error',optimizer='adam')"
   ]
  },
  {
   "cell_type": "code",
   "execution_count": 148,
   "id": "c9e7f3db",
   "metadata": {},
   "outputs": [
    {
     "name": "stdout",
     "output_type": "stream",
     "text": [
      "Epoch 1/100\n",
      "36/36 - 2s - loss: 0.0809 - 2s/epoch - 45ms/step\n",
      "Epoch 2/100\n",
      "36/36 - 0s - loss: 0.0705 - 120ms/epoch - 3ms/step\n",
      "Epoch 3/100\n",
      "36/36 - 0s - loss: 0.0625 - 132ms/epoch - 4ms/step\n",
      "Epoch 4/100\n",
      "36/36 - 0s - loss: 0.0571 - 145ms/epoch - 4ms/step\n",
      "Epoch 5/100\n",
      "36/36 - 0s - loss: 0.0530 - 148ms/epoch - 4ms/step\n",
      "Epoch 6/100\n",
      "36/36 - 0s - loss: 0.0514 - 152ms/epoch - 4ms/step\n",
      "Epoch 7/100\n",
      "36/36 - 0s - loss: 0.0493 - 140ms/epoch - 4ms/step\n",
      "Epoch 8/100\n",
      "36/36 - 0s - loss: 0.0481 - 129ms/epoch - 4ms/step\n",
      "Epoch 9/100\n",
      "36/36 - 0s - loss: 0.0466 - 135ms/epoch - 4ms/step\n",
      "Epoch 10/100\n",
      "36/36 - 0s - loss: 0.0458 - 130ms/epoch - 4ms/step\n",
      "Epoch 11/100\n",
      "36/36 - 0s - loss: 0.0452 - 154ms/epoch - 4ms/step\n",
      "Epoch 12/100\n",
      "36/36 - 0s - loss: 0.0448 - 142ms/epoch - 4ms/step\n",
      "Epoch 13/100\n",
      "36/36 - 0s - loss: 0.0438 - 132ms/epoch - 4ms/step\n",
      "Epoch 14/100\n",
      "36/36 - 0s - loss: 0.0430 - 151ms/epoch - 4ms/step\n",
      "Epoch 15/100\n",
      "36/36 - 0s - loss: 0.0424 - 144ms/epoch - 4ms/step\n",
      "Epoch 16/100\n",
      "36/36 - 0s - loss: 0.0420 - 127ms/epoch - 4ms/step\n",
      "Epoch 17/100\n",
      "36/36 - 0s - loss: 0.0410 - 159ms/epoch - 4ms/step\n",
      "Epoch 18/100\n",
      "36/36 - 0s - loss: 0.0408 - 126ms/epoch - 4ms/step\n",
      "Epoch 19/100\n",
      "36/36 - 0s - loss: 0.0397 - 122ms/epoch - 3ms/step\n",
      "Epoch 20/100\n",
      "36/36 - 0s - loss: 0.0389 - 107ms/epoch - 3ms/step\n",
      "Epoch 21/100\n",
      "36/36 - 0s - loss: 0.0383 - 135ms/epoch - 4ms/step\n",
      "Epoch 22/100\n",
      "36/36 - 0s - loss: 0.0377 - 152ms/epoch - 4ms/step\n",
      "Epoch 23/100\n",
      "36/36 - 0s - loss: 0.0367 - 142ms/epoch - 4ms/step\n",
      "Epoch 24/100\n",
      "36/36 - 0s - loss: 0.0361 - 135ms/epoch - 4ms/step\n",
      "Epoch 25/100\n",
      "36/36 - 0s - loss: 0.0354 - 133ms/epoch - 4ms/step\n",
      "Epoch 26/100\n",
      "36/36 - 0s - loss: 0.0345 - 131ms/epoch - 4ms/step\n",
      "Epoch 27/100\n",
      "36/36 - 0s - loss: 0.0340 - 111ms/epoch - 3ms/step\n",
      "Epoch 28/100\n",
      "36/36 - 0s - loss: 0.0336 - 103ms/epoch - 3ms/step\n",
      "Epoch 29/100\n",
      "36/36 - 0s - loss: 0.0327 - 56ms/epoch - 2ms/step\n",
      "Epoch 30/100\n",
      "36/36 - 0s - loss: 0.0322 - 85ms/epoch - 2ms/step\n",
      "Epoch 31/100\n",
      "36/36 - 0s - loss: 0.0314 - 80ms/epoch - 2ms/step\n",
      "Epoch 32/100\n",
      "36/36 - 0s - loss: 0.0304 - 76ms/epoch - 2ms/step\n",
      "Epoch 33/100\n",
      "36/36 - 0s - loss: 0.0298 - 68ms/epoch - 2ms/step\n",
      "Epoch 34/100\n",
      "36/36 - 0s - loss: 0.0295 - 92ms/epoch - 3ms/step\n",
      "Epoch 35/100\n",
      "36/36 - 0s - loss: 0.0285 - 106ms/epoch - 3ms/step\n",
      "Epoch 36/100\n",
      "36/36 - 0s - loss: 0.0279 - 76ms/epoch - 2ms/step\n",
      "Epoch 37/100\n",
      "36/36 - 0s - loss: 0.0276 - 108ms/epoch - 3ms/step\n",
      "Epoch 38/100\n",
      "36/36 - 0s - loss: 0.0268 - 117ms/epoch - 3ms/step\n",
      "Epoch 39/100\n",
      "36/36 - 0s - loss: 0.0261 - 117ms/epoch - 3ms/step\n",
      "Epoch 40/100\n",
      "36/36 - 0s - loss: 0.0256 - 133ms/epoch - 4ms/step\n",
      "Epoch 41/100\n",
      "36/36 - 0s - loss: 0.0255 - 124ms/epoch - 3ms/step\n",
      "Epoch 42/100\n",
      "36/36 - 0s - loss: 0.0246 - 124ms/epoch - 3ms/step\n",
      "Epoch 43/100\n",
      "36/36 - 0s - loss: 0.0243 - 132ms/epoch - 4ms/step\n",
      "Epoch 44/100\n",
      "36/36 - 0s - loss: 0.0242 - 133ms/epoch - 4ms/step\n",
      "Epoch 45/100\n",
      "36/36 - 0s - loss: 0.0233 - 125ms/epoch - 3ms/step\n",
      "Epoch 46/100\n",
      "36/36 - 0s - loss: 0.0231 - 117ms/epoch - 3ms/step\n",
      "Epoch 47/100\n",
      "36/36 - 0s - loss: 0.0228 - 128ms/epoch - 4ms/step\n",
      "Epoch 48/100\n",
      "36/36 - 0s - loss: 0.0224 - 157ms/epoch - 4ms/step\n",
      "Epoch 49/100\n",
      "36/36 - 0s - loss: 0.0219 - 147ms/epoch - 4ms/step\n",
      "Epoch 50/100\n",
      "36/36 - 0s - loss: 0.0217 - 137ms/epoch - 4ms/step\n",
      "Epoch 51/100\n",
      "36/36 - 0s - loss: 0.0216 - 142ms/epoch - 4ms/step\n",
      "Epoch 52/100\n",
      "36/36 - 0s - loss: 0.0215 - 131ms/epoch - 4ms/step\n",
      "Epoch 53/100\n",
      "36/36 - 0s - loss: 0.0208 - 107ms/epoch - 3ms/step\n",
      "Epoch 54/100\n",
      "36/36 - 0s - loss: 0.0207 - 125ms/epoch - 3ms/step\n",
      "Epoch 55/100\n",
      "36/36 - 0s - loss: 0.0211 - 123ms/epoch - 3ms/step\n",
      "Epoch 56/100\n",
      "36/36 - 0s - loss: 0.0209 - 125ms/epoch - 3ms/step\n",
      "Epoch 57/100\n",
      "36/36 - 0s - loss: 0.0209 - 112ms/epoch - 3ms/step\n",
      "Epoch 58/100\n",
      "36/36 - 0s - loss: 0.0205 - 97ms/epoch - 3ms/step\n",
      "Epoch 59/100\n",
      "36/36 - 0s - loss: 0.0207 - 107ms/epoch - 3ms/step\n",
      "Epoch 60/100\n",
      "36/36 - 0s - loss: 0.0199 - 121ms/epoch - 3ms/step\n",
      "Epoch 61/100\n",
      "36/36 - 0s - loss: 0.0200 - 117ms/epoch - 3ms/step\n",
      "Epoch 62/100\n",
      "36/36 - 0s - loss: 0.0196 - 144ms/epoch - 4ms/step\n",
      "Epoch 63/100\n",
      "36/36 - 0s - loss: 0.0197 - 121ms/epoch - 3ms/step\n",
      "Epoch 64/100\n",
      "36/36 - 0s - loss: 0.0196 - 114ms/epoch - 3ms/step\n",
      "Epoch 65/100\n",
      "36/36 - 0s - loss: 0.0195 - 136ms/epoch - 4ms/step\n",
      "Epoch 66/100\n",
      "36/36 - 0s - loss: 0.0193 - 137ms/epoch - 4ms/step\n",
      "Epoch 67/100\n",
      "36/36 - 0s - loss: 0.0193 - 134ms/epoch - 4ms/step\n",
      "Epoch 68/100\n",
      "36/36 - 0s - loss: 0.0195 - 131ms/epoch - 4ms/step\n",
      "Epoch 69/100\n",
      "36/36 - 0s - loss: 0.0192 - 124ms/epoch - 3ms/step\n",
      "Epoch 70/100\n",
      "36/36 - 0s - loss: 0.0191 - 129ms/epoch - 4ms/step\n",
      "Epoch 71/100\n",
      "36/36 - 0s - loss: 0.0191 - 146ms/epoch - 4ms/step\n",
      "Epoch 72/100\n",
      "36/36 - 0s - loss: 0.0195 - 124ms/epoch - 3ms/step\n",
      "Epoch 73/100\n",
      "36/36 - 0s - loss: 0.0192 - 121ms/epoch - 3ms/step\n",
      "Epoch 74/100\n",
      "36/36 - 0s - loss: 0.0193 - 133ms/epoch - 4ms/step\n",
      "Epoch 75/100\n",
      "36/36 - 0s - loss: 0.0191 - 114ms/epoch - 3ms/step\n",
      "Epoch 76/100\n",
      "36/36 - 0s - loss: 0.0192 - 101ms/epoch - 3ms/step\n",
      "Epoch 77/100\n",
      "36/36 - 0s - loss: 0.0190 - 102ms/epoch - 3ms/step\n",
      "Epoch 78/100\n",
      "36/36 - 0s - loss: 0.0191 - 119ms/epoch - 3ms/step\n",
      "Epoch 79/100\n",
      "36/36 - 0s - loss: 0.0192 - 105ms/epoch - 3ms/step\n",
      "Epoch 80/100\n",
      "36/36 - 0s - loss: 0.0191 - 109ms/epoch - 3ms/step\n",
      "Epoch 81/100\n",
      "36/36 - 0s - loss: 0.0194 - 140ms/epoch - 4ms/step\n",
      "Epoch 82/100\n",
      "36/36 - 0s - loss: 0.0193 - 138ms/epoch - 4ms/step\n",
      "Epoch 83/100\n",
      "36/36 - 0s - loss: 0.0192 - 149ms/epoch - 4ms/step\n",
      "Epoch 84/100\n",
      "36/36 - 0s - loss: 0.0194 - 135ms/epoch - 4ms/step\n",
      "Epoch 85/100\n",
      "36/36 - 0s - loss: 0.0192 - 115ms/epoch - 3ms/step\n",
      "Epoch 86/100\n",
      "36/36 - 0s - loss: 0.0189 - 121ms/epoch - 3ms/step\n",
      "Epoch 87/100\n",
      "36/36 - 0s - loss: 0.0192 - 120ms/epoch - 3ms/step\n",
      "Epoch 88/100\n",
      "36/36 - 0s - loss: 0.0190 - 132ms/epoch - 4ms/step\n",
      "Epoch 89/100\n",
      "36/36 - 0s - loss: 0.0190 - 120ms/epoch - 3ms/step\n",
      "Epoch 90/100\n",
      "36/36 - 0s - loss: 0.0189 - 116ms/epoch - 3ms/step\n",
      "Epoch 91/100\n",
      "36/36 - 0s - loss: 0.0190 - 132ms/epoch - 4ms/step\n",
      "Epoch 92/100\n",
      "36/36 - 0s - loss: 0.0192 - 128ms/epoch - 4ms/step\n",
      "Epoch 93/100\n",
      "36/36 - 0s - loss: 0.0189 - 124ms/epoch - 3ms/step\n",
      "Epoch 94/100\n",
      "36/36 - 0s - loss: 0.0192 - 108ms/epoch - 3ms/step\n",
      "Epoch 95/100\n",
      "36/36 - 0s - loss: 0.0188 - 130ms/epoch - 4ms/step\n",
      "Epoch 96/100\n",
      "36/36 - 0s - loss: 0.0188 - 143ms/epoch - 4ms/step\n",
      "Epoch 97/100\n",
      "36/36 - 0s - loss: 0.0190 - 149ms/epoch - 4ms/step\n",
      "Epoch 98/100\n",
      "36/36 - 0s - loss: 0.0189 - 144ms/epoch - 4ms/step\n",
      "Epoch 99/100\n",
      "36/36 - 0s - loss: 0.0189 - 134ms/epoch - 4ms/step\n",
      "Epoch 100/100\n",
      "36/36 - 0s - loss: 0.0191 - 108ms/epoch - 3ms/step\n"
     ]
    },
    {
     "data": {
      "text/plain": [
       "<keras.callbacks.History at 0x1b27b2d7310>"
      ]
     },
     "execution_count": 148,
     "metadata": {},
     "output_type": "execute_result"
    }
   ],
   "source": [
    "# create and fit the LSTM network\n",
    "model = Sequential()\n",
    "model.add(LSTM(4, input_shape=(1, look_back)))\n",
    "model.add(Dense(1))\n",
    "model.compile(loss='mean_squared_error', optimizer='adam')\n",
    "model.fit(X_train, y_train, epochs=100, batch_size=1, verbose=2)"
   ]
  },
  {
   "cell_type": "code",
   "execution_count": 122,
   "id": "3a60d99d",
   "metadata": {},
   "outputs": [],
   "source": [
    "from tensorflow.keras.callbacks import EarlyStopping"
   ]
  },
  {
   "cell_type": "code",
   "execution_count": 149,
   "id": "409f9cd6",
   "metadata": {},
   "outputs": [
    {
     "name": "stdout",
     "output_type": "stream",
     "text": [
      "Epoch 1/150\n",
      "2/2 [==============================] - 2s 508ms/step - loss: 0.0187 - val_loss: 0.0047\n",
      "Epoch 2/150\n",
      "2/2 [==============================] - 0s 60ms/step - loss: 0.0187 - val_loss: 0.0047\n",
      "Epoch 3/150\n",
      "2/2 [==============================] - 0s 61ms/step - loss: 0.0187 - val_loss: 0.0047\n",
      "Epoch 4/150\n",
      "2/2 [==============================] - 0s 58ms/step - loss: 0.0187 - val_loss: 0.0047\n",
      "Epoch 5/150\n",
      "2/2 [==============================] - 0s 50ms/step - loss: 0.0187 - val_loss: 0.0047\n",
      "Epoch 6/150\n",
      "2/2 [==============================] - 0s 60ms/step - loss: 0.0187 - val_loss: 0.0047\n",
      "Epoch 7/150\n",
      "2/2 [==============================] - 0s 74ms/step - loss: 0.0187 - val_loss: 0.0047\n",
      "Epoch 8/150\n",
      "2/2 [==============================] - 0s 64ms/step - loss: 0.0187 - val_loss: 0.0047\n",
      "Epoch 9/150\n",
      "2/2 [==============================] - 0s 69ms/step - loss: 0.0187 - val_loss: 0.0047\n",
      "Epoch 10/150\n",
      "2/2 [==============================] - 0s 67ms/step - loss: 0.0187 - val_loss: 0.0047\n",
      "Epoch 11/150\n",
      "2/2 [==============================] - 0s 64ms/step - loss: 0.0187 - val_loss: 0.0047\n",
      "Epoch 12/150\n",
      "2/2 [==============================] - 0s 68ms/step - loss: 0.0187 - val_loss: 0.0047\n",
      "Epoch 13/150\n",
      "2/2 [==============================] - 0s 64ms/step - loss: 0.0187 - val_loss: 0.0047\n",
      "Epoch 14/150\n",
      "2/2 [==============================] - 0s 67ms/step - loss: 0.0187 - val_loss: 0.0047\n",
      "Epoch 15/150\n",
      "2/2 [==============================] - 0s 73ms/step - loss: 0.0187 - val_loss: 0.0047\n",
      "Epoch 16/150\n",
      "2/2 [==============================] - 0s 68ms/step - loss: 0.0187 - val_loss: 0.0047\n",
      "Epoch 17/150\n",
      "2/2 [==============================] - 0s 78ms/step - loss: 0.0187 - val_loss: 0.0047\n",
      "Epoch 18/150\n",
      "2/2 [==============================] - 0s 55ms/step - loss: 0.0187 - val_loss: 0.0046\n",
      "Epoch 19/150\n",
      "2/2 [==============================] - 0s 63ms/step - loss: 0.0187 - val_loss: 0.0046\n",
      "Epoch 20/150\n",
      "2/2 [==============================] - 0s 72ms/step - loss: 0.0187 - val_loss: 0.0046\n",
      "Epoch 21/150\n",
      "2/2 [==============================] - 0s 68ms/step - loss: 0.0187 - val_loss: 0.0046\n",
      "Epoch 22/150\n",
      "2/2 [==============================] - 0s 64ms/step - loss: 0.0187 - val_loss: 0.0046\n",
      "Epoch 23/150\n",
      "2/2 [==============================] - 0s 72ms/step - loss: 0.0187 - val_loss: 0.0046\n",
      "Epoch 24/150\n",
      "2/2 [==============================] - 0s 60ms/step - loss: 0.0187 - val_loss: 0.0046\n",
      "Epoch 25/150\n",
      "2/2 [==============================] - 0s 73ms/step - loss: 0.0187 - val_loss: 0.0046\n",
      "Epoch 26/150\n",
      "2/2 [==============================] - 0s 62ms/step - loss: 0.0187 - val_loss: 0.0046\n",
      "Epoch 27/150\n",
      "2/2 [==============================] - 0s 77ms/step - loss: 0.0187 - val_loss: 0.0046\n",
      "Epoch 28/150\n",
      "2/2 [==============================] - 0s 57ms/step - loss: 0.0187 - val_loss: 0.0046\n",
      "Epoch 29/150\n",
      "2/2 [==============================] - 0s 57ms/step - loss: 0.0187 - val_loss: 0.0046\n",
      "Epoch 30/150\n",
      "2/2 [==============================] - 0s 66ms/step - loss: 0.0187 - val_loss: 0.0046\n",
      "Epoch 31/150\n",
      "1/2 [==============>...............] - ETA: 0s - loss: 0.0204Restoring model weights from the end of the best epoch: 1.\n",
      "2/2 [==============================] - 0s 60ms/step - loss: 0.0187 - val_loss: 0.0046\n",
      "Epoch 31: early stopping\n"
     ]
    }
   ],
   "source": [
    "monitor = EarlyStopping(monitor='val_loss', min_delta=1e-3, patience=30,verbose=1, mode='auto', restore_best_weights=True)\n",
    "history=model.fit(X_train,y_train,validation_data=(X_test,y_test),callbacks=[monitor],verbose=1,epochs=150)"
   ]
  },
  {
   "cell_type": "code",
   "execution_count": 163,
   "id": "4f54514b",
   "metadata": {},
   "outputs": [
    {
     "data": {
      "image/png": "[encoded data removed]",
      "text/plain": [
       "<Figure size 432x288 with 1 Axes>"
      ]
     },
     "metadata": {
      "needs_background": "light"
     },
     "output_type": "display_data"
    }
   ],
   "source": [
    "plt.plot((history.history['loss'])) # tb\n",
    "plt.plot(history.history['val_loss'])\n",
    "plt.title('Model Loss')\n",
    "plt.ylabel('loss')\n",
    "plt.xlabel('epoch')\n",
    "plt.legend(['train', 'test'], loc='upper right')\n",
    "plt.show()"
   ]
  },
  {
   "cell_type": "code",
   "execution_count": 151,
   "id": "b37c9d0c",
   "metadata": {},
   "outputs": [],
   "source": [
    "import tensorflow as tf"
   ]
  },
  {
   "cell_type": "code",
   "execution_count": 159,
   "id": "11a864a3",
   "metadata": {},
   "outputs": [
    {
     "name": "stdout",
     "output_type": "stream",
     "text": [
      "2/2 [==============================] - 0s 8ms/step\n",
      "1/1 [==============================] - 0s 16ms/step\n"
     ]
    }
   ],
   "source": [
    "###prediction and check performance metrics\n",
    "train_predict=model.predict(X_train)\n",
    "test_predict=model.predict(X_test)"
   ]
  },
  {
   "cell_type": "code",
   "execution_count": 160,
   "id": "35f9f68e",
   "metadata": {},
   "outputs": [],
   "source": [
    "##Transformback to original form\n",
    "train_predict=scaler.inverse_transform(train_predict)\n",
    "test_predict=scaler.inverse_transform(test_predict)"
   ]
  },
  {
   "cell_type": "code",
   "execution_count": 161,
   "id": "08336e53",
   "metadata": {},
   "outputs": [
    {
     "name": "stdout",
     "output_type": "stream",
     "text": [
      "0.05473917114465411\n",
      "0.233964038144015\n"
     ]
    }
   ],
   "source": [
    "### Calculate RMSE performance metrics\n",
    "import math\n",
    "from sklearn.metrics import mean_squared_error\n",
    "print(mean_squared_error(y_train,train_predict))\n",
    "print(math.sqrt(mean_squared_error(y_train,train_predict)))"
   ]
  },
  {
   "cell_type": "code",
   "execution_count": 155,
   "id": "3978c505",
   "metadata": {},
   "outputs": [],
   "source": [
    "# data['Saudi Arabia'].unique()"
   ]
  },
  {
   "cell_type": "code",
   "execution_count": 156,
   "id": "97a14af1",
   "metadata": {},
   "outputs": [],
   "source": [
    "# y_train"
   ]
  },
  {
   "cell_type": "code",
   "execution_count": 157,
   "id": "eba04ef6",
   "metadata": {},
   "outputs": [],
   "source": [
    "# X_train"
   ]
  },
  {
   "cell_type": "code",
   "execution_count": 158,
   "id": "9c5dc0e6",
   "metadata": {},
   "outputs": [
    {
     "name": "stdout",
     "output_type": "stream",
     "text": [
      "2/2 [==============================] - 0s 16ms/step\n",
      "1/1 [==============================] - 0s 25ms/step\n"
     ]
    },
    {
     "data": {
      "image/png": "[encoded data removed]",
      "text/plain": [
       "<Figure size 432x288 with 1 Axes>"
      ]
     },
     "metadata": {
      "needs_background": "light"
     },
     "output_type": "display_data"
    }
   ],
   "source": [
    "# make predictions\n",
    "look_back=1\n",
    "trainPredict = model.predict(X_train)\n",
    "testPredict = model.predict(X_test)\n",
    "\n",
    "# invert predictions\n",
    "trainPredict = scaler.inverse_transform(trainPredict)\n",
    "trainY = scaler.inverse_transform([y_train])\n",
    "testPredict = scaler.inverse_transform(testPredict)\n",
    "testY = scaler.inverse_transform([y_test])\n",
    "\n",
    "# calculate root mean squared error\n",
    "trainScore = math.sqrt(mean_squared_error(trainY[0], trainPredict[:,0]))\n",
    "testScore = math.sqrt(mean_squared_error(testY[0], testPredict[:,0]))\n",
    "# print(trainPredict)\n",
    "\n",
    "# shift train predictions for plotting\n",
    "trainPredictPlot = np.empty_like(X)\n",
    "trainPredictPlot[:, :] = np.nan\n",
    "trainPredictPlot[look_back:len(trainPredict)+look_back, :] = trainPredict\n",
    "\n",
    "\n",
    "# shift test predictions for plotting\n",
    "testPredictPlot = np.empty_like(X)\n",
    "testPredictPlot[:, :] = np.nan\n",
    "testPredictPlot[len(trainPredict)+(look_back*2)+1:len(X)-1, :] = testPredict\n",
    "####testPredictPlot[look_back:len(testPredict)+look_back, :] = testPredict\n",
    "\n",
    "# plot baseline and predictions\n",
    "plt.plot(scaler.inverse_transform(X))\n",
    "plt.plot(trainPredictPlot)\n",
    "plt.plot(testPredictPlot)\n",
    "plt.legend(['original', 'train','test'], loc='upper right')\n",
    "plt.show()\n",
    "plt.show()"
   ]
  },
  {
   "cell_type": "code",
   "execution_count": 135,
   "id": "8ef18b29",
   "metadata": {},
   "outputs": [
    {
     "name": "stdout",
     "output_type": "stream",
     "text": [
      "(36, 1)\n",
      "(58, 1)\n"
     ]
    }
   ],
   "source": [
    "# (scaler.inverse_transform(X))\n",
    "print(trainPredict.shape)\n",
    "print(X.shape)"
   ]
  },
  {
   "cell_type": "code",
   "execution_count": null,
   "id": "3e2888fb",
   "metadata": {},
   "outputs": [],
   "source": []
  },
  {
   "cell_type": "code",
   "execution_count": 63,
   "id": "94da8662",
   "metadata": {},
   "outputs": [],
   "source": [
    "# def preprocess_lstm(sequence, n_steps,n_features):\n",
    "#     X, y = list(), list()\n",
    "#     for i in range(len(sequence)):\n",
    "#         # find the end of this pattern\n",
    "#         end_ix = i + n_steps\n",
    "#         # check if we are beyond the sequence\n",
    "#         if end_ix >= len(sequence):\n",
    "#             break\n",
    "#         # gather input and output parts of the pattern\n",
    "#         seq_x, seq_y = sequence[i:end_ix], sequence[end_ix]\n",
    "#         X.append(seq_x)\n",
    "#         y.append(seq_y)\n",
    "        \n",
    "#     X = np.array(X)\n",
    "#     y = np.array(y)\n",
    "\n",
    "#     X = X.reshape((X.shape[0],  n_features))\n",
    "#     return X, y"
   ]
  },
  {
   "cell_type": "code",
   "execution_count": 137,
   "id": "ee642f3d",
   "metadata": {},
   "outputs": [],
   "source": [
    "# len(trainPredict)"
   ]
  },
  {
   "cell_type": "code",
   "execution_count": 184,
   "id": "0163e200",
   "metadata": {},
   "outputs": [],
   "source": [
    "# nb_days = 365\n",
    "# n_features = 1\n",
    "# X, y = preprocess_lstm(data.to_numpy(), nb_days, n_features)"
   ]
  },
  {
   "cell_type": "code",
   "execution_count": 185,
   "id": "3f53899a",
   "metadata": {},
   "outputs": [],
   "source": [
    "# test_days = 365 \n",
    "# X_train, y_train = X[:-test_days], y[:-test_days]\n",
    "# X_test, y_test = X[-test_days:], y[-test_days:]"
   ]
  },
  {
   "cell_type": "code",
   "execution_count": 186,
   "id": "a3c0988c",
   "metadata": {},
   "outputs": [],
   "source": [
    "# X_train"
   ]
  },
  {
   "cell_type": "code",
   "execution_count": null,
   "id": "61dd906b",
   "metadata": {},
   "outputs": [],
   "source": []
  }
 ],
 "metadata": {
  "kernelspec": {
   "display_name": "Python 3 (ipykernel)",
   "language": "python",
   "name": "python3"
  },
  "language_info": {
   "codemirror_mode": {
    "name": "ipython",
    "version": 3
   },
   "file_extension": ".py",
   "mimetype": "text/x-python",
   "name": "python",
   "nbconvert_exporter": "python",
   "pygments_lexer": "ipython3",
   "version": "3.9.12"
  }
 },
 "nbformat": 4,
 "nbformat_minor": 5
}
